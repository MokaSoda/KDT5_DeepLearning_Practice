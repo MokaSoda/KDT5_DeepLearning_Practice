{
 "cells": [
  {
   "cell_type": "code",
   "execution_count": 1,
   "id": "e119a841",
   "metadata": {
    "collapsed": true
   },
   "outputs": [],
   "source": [
    "#!pip3 install torch torchvision torchaudio"
   ]
  },
  {
   "cell_type": "markdown",
   "id": "03deca72",
   "metadata": {},
   "source": [
    "- [1] 모듈 로딩 및 데이터 준비 <hr>"
   ]
  },
  {
   "cell_type": "code",
   "execution_count": 2,
   "id": "00e4488b",
   "metadata": {},
   "outputs": [],
   "source": [
    "### ===> 모듈로딩\n",
    "import torch                            # 파이토치 텐서 및 기본 함수들 관련 모듈\n",
    "import torch.nn as nn                   # 인공신경망 층 관련 모듈\n",
    "import torch.nn.functional as F         # 인공신경망 관련 함수들 모듈\n",
    "import torch.optim as optim             # 인공신경망 최적화 관련 모듈"
   ]
  },
  {
   "cell_type": "code",
   "execution_count": 3,
   "id": "a9371164",
   "metadata": {},
   "outputs": [
    {
     "data": {
      "text/plain": [
       "<torch._C.Generator at 0x7142a2b47830>"
      ]
     },
     "execution_count": 3,
     "metadata": {},
     "output_type": "execute_result"
    }
   ],
   "source": [
    "### ===> 랜덤 시드(random seed) 설정\n",
    "torch.manual_seed(1)"
   ]
  },
  {
   "cell_type": "code",
   "execution_count": 4,
   "id": "63325226",
   "metadata": {},
   "outputs": [],
   "source": [
    "### ===> 데이터 준비 \n",
    "x_train = torch.FloatTensor([[1], [2], [3]])\n",
    "y_train = torch.FloatTensor([[2], [4], [6]])"
   ]
  },
  {
   "cell_type": "code",
   "execution_count": 5,
   "id": "29a349fa",
   "metadata": {},
   "outputs": [
    {
     "name": "stdout",
     "output_type": "stream",
     "text": [
      "x_train : torch.Size([3, 1]), 2 \n",
      "tensor([[1.],\n",
      "        [2.],\n",
      "        [3.]])\n",
      "y_train : torch.Size([3, 1]), 2 \n",
      "tensor([[2.],\n",
      "        [4.],\n",
      "        [6.]])\n"
     ]
    }
   ],
   "source": [
    "print(f'x_train : {x_train.shape}, {x_train.ndim} \\n{x_train}')\n",
    "print(f'y_train : {y_train.shape}, {y_train.ndim} \\n{y_train}')"
   ]
  },
  {
   "cell_type": "markdown",
   "id": "08f8b366",
   "metadata": {},
   "source": [
    "- [2] 학습 위한 준비 <hr>"
   ]
  },
  {
   "cell_type": "code",
   "execution_count": 6,
   "id": "9ca21c47",
   "metadata": {},
   "outputs": [
    {
     "name": "stdout",
     "output_type": "stream",
     "text": [
      "W : tensor([0.], requires_grad=True), b : tensor([0.], requires_grad=True)\n"
     ]
    }
   ],
   "source": [
    "### ===> 가중치 및 절편 데이터 생성 및 초기화\n",
    "# - 가중치 W            : 0으로 초기화하고 학습 통해 값이 변경되는 변수 명시함\n",
    "# - requires_grad=True : 학습을 통해 계속 값이 변경되는 변수임 의미\n",
    "# torch.zeros(텐서 원소 갯수)\n",
    "W = torch.zeros(1, requires_grad=True) \n",
    "b = torch.zeros(1, requires_grad=True)\n",
    "\n",
    "print(f'W : {W}, b : {b}') "
   ]
  },
  {
   "cell_type": "code",
   "execution_count": 7,
   "id": "28b0a523",
   "metadata": {},
   "outputs": [],
   "source": [
    "### ===> 경사하강법 설정 : W,b 업데이트 \n",
    "# W,b 변수, 학습률지정\n",
    "optimizer = optim.SGD([W, b], lr=0.01)"
   ]
  },
  {
   "cell_type": "markdown",
   "id": "821376cb",
   "metadata": {},
   "source": [
    "- [3] 학습 진행 <hr>"
   ]
  },
  {
   "cell_type": "code",
   "execution_count": 8,
   "id": "e9847f83",
   "metadata": {
    "collapsed": true
   },
   "outputs": [
    {
     "name": "stdout",
     "output_type": "stream",
     "text": [
      "Epoch    0/10000 W: 0.187, b: 0.080 Cost: 18.666666\n",
      "Epoch  100/10000 W: 1.746, b: 0.578 Cost: 0.048171\n",
      "Epoch  200/10000 W: 1.800, b: 0.454 Cost: 0.029767\n",
      "Epoch  300/10000 W: 1.843, b: 0.357 Cost: 0.018394\n",
      "Epoch  400/10000 W: 1.876, b: 0.281 Cost: 0.011366\n",
      "Epoch  500/10000 W: 1.903, b: 0.221 Cost: 0.007024\n",
      "Epoch  600/10000 W: 1.924, b: 0.174 Cost: 0.004340\n",
      "Epoch  700/10000 W: 1.940, b: 0.136 Cost: 0.002682\n",
      "Epoch  800/10000 W: 1.953, b: 0.107 Cost: 0.001657\n",
      "Epoch  900/10000 W: 1.963, b: 0.084 Cost: 0.001024\n",
      "Epoch 1000/10000 W: 1.971, b: 0.066 Cost: 0.000633\n",
      "Epoch 1100/10000 W: 1.977, b: 0.052 Cost: 0.000391\n",
      "Epoch 1200/10000 W: 1.982, b: 0.041 Cost: 0.000242\n",
      "Epoch 1300/10000 W: 1.986, b: 0.032 Cost: 0.000149\n",
      "Epoch 1400/10000 W: 1.989, b: 0.025 Cost: 0.000092\n",
      "Epoch 1500/10000 W: 1.991, b: 0.020 Cost: 0.000057\n",
      "Epoch 1600/10000 W: 1.993, b: 0.016 Cost: 0.000035\n",
      "Epoch 1700/10000 W: 1.995, b: 0.012 Cost: 0.000022\n",
      "Epoch 1800/10000 W: 1.996, b: 0.010 Cost: 0.000013\n",
      "Epoch 1900/10000 W: 1.997, b: 0.008 Cost: 0.000008\n",
      "Epoch 2000/10000 W: 1.997, b: 0.006 Cost: 0.000005\n",
      "Epoch 2100/10000 W: 1.998, b: 0.005 Cost: 0.000003\n",
      "Epoch 2200/10000 W: 1.998, b: 0.004 Cost: 0.000002\n",
      "Epoch 2300/10000 W: 1.999, b: 0.003 Cost: 0.000001\n",
      "Epoch 2400/10000 W: 1.999, b: 0.002 Cost: 0.000001\n",
      "Epoch 2500/10000 W: 1.999, b: 0.002 Cost: 0.000000\n",
      "Epoch 2600/10000 W: 1.999, b: 0.001 Cost: 0.000000\n",
      "Epoch 2700/10000 W: 2.000, b: 0.001 Cost: 0.000000\n",
      "Epoch 2800/10000 W: 2.000, b: 0.001 Cost: 0.000000\n",
      "Epoch 2900/10000 W: 2.000, b: 0.001 Cost: 0.000000\n",
      "Epoch 3000/10000 W: 2.000, b: 0.001 Cost: 0.000000\n",
      "Epoch 3100/10000 W: 2.000, b: 0.000 Cost: 0.000000\n",
      "Epoch 3200/10000 W: 2.000, b: 0.000 Cost: 0.000000\n",
      "Epoch 3300/10000 W: 2.000, b: 0.000 Cost: 0.000000\n",
      "Epoch 3400/10000 W: 2.000, b: 0.000 Cost: 0.000000\n",
      "Epoch 3500/10000 W: 2.000, b: 0.000 Cost: 0.000000\n",
      "Epoch 3600/10000 W: 2.000, b: 0.000 Cost: 0.000000\n",
      "Epoch 3700/10000 W: 2.000, b: 0.000 Cost: 0.000000\n",
      "Epoch 3800/10000 W: 2.000, b: 0.000 Cost: 0.000000\n",
      "Epoch 3900/10000 W: 2.000, b: 0.000 Cost: 0.000000\n",
      "Epoch 4000/10000 W: 2.000, b: 0.000 Cost: 0.000000\n",
      "Epoch 4100/10000 W: 2.000, b: 0.000 Cost: 0.000000\n",
      "Epoch 4200/10000 W: 2.000, b: 0.000 Cost: 0.000000\n",
      "Epoch 4300/10000 W: 2.000, b: 0.000 Cost: 0.000000\n",
      "Epoch 4400/10000 W: 2.000, b: 0.000 Cost: 0.000000\n",
      "Epoch 4500/10000 W: 2.000, b: 0.000 Cost: 0.000000\n",
      "Epoch 4600/10000 W: 2.000, b: 0.000 Cost: 0.000000\n",
      "Epoch 4700/10000 W: 2.000, b: 0.000 Cost: 0.000000\n",
      "Epoch 4800/10000 W: 2.000, b: 0.000 Cost: 0.000000\n",
      "Epoch 4900/10000 W: 2.000, b: 0.000 Cost: 0.000000\n",
      "Epoch 5000/10000 W: 2.000, b: 0.000 Cost: 0.000000\n",
      "Epoch 5100/10000 W: 2.000, b: 0.000 Cost: 0.000000\n",
      "Epoch 5200/10000 W: 2.000, b: 0.000 Cost: 0.000000\n",
      "Epoch 5300/10000 W: 2.000, b: 0.000 Cost: 0.000000\n",
      "Epoch 5400/10000 W: 2.000, b: 0.000 Cost: 0.000000\n",
      "Epoch 5500/10000 W: 2.000, b: 0.000 Cost: 0.000000\n",
      "Epoch 5600/10000 W: 2.000, b: 0.000 Cost: 0.000000\n",
      "Epoch 5700/10000 W: 2.000, b: 0.000 Cost: 0.000000\n",
      "Epoch 5800/10000 W: 2.000, b: 0.000 Cost: 0.000000\n",
      "Epoch 5900/10000 W: 2.000, b: 0.000 Cost: 0.000000\n",
      "Epoch 6000/10000 W: 2.000, b: 0.000 Cost: 0.000000\n",
      "Epoch 6100/10000 W: 2.000, b: 0.000 Cost: 0.000000\n",
      "Epoch 6200/10000 W: 2.000, b: 0.000 Cost: 0.000000\n",
      "Epoch 6300/10000 W: 2.000, b: 0.000 Cost: 0.000000\n",
      "Epoch 6400/10000 W: 2.000, b: 0.000 Cost: 0.000000\n",
      "Epoch 6500/10000 W: 2.000, b: 0.000 Cost: 0.000000\n",
      "Epoch 6600/10000 W: 2.000, b: 0.000 Cost: 0.000000\n",
      "Epoch 6700/10000 W: 2.000, b: 0.000 Cost: 0.000000\n",
      "Epoch 6800/10000 W: 2.000, b: 0.000 Cost: 0.000000\n",
      "Epoch 6900/10000 W: 2.000, b: 0.000 Cost: 0.000000\n",
      "Epoch 7000/10000 W: 2.000, b: 0.000 Cost: 0.000000\n",
      "Epoch 7100/10000 W: 2.000, b: 0.000 Cost: 0.000000\n",
      "Epoch 7200/10000 W: 2.000, b: 0.000 Cost: 0.000000\n",
      "Epoch 7300/10000 W: 2.000, b: 0.000 Cost: 0.000000\n",
      "Epoch 7400/10000 W: 2.000, b: 0.000 Cost: 0.000000\n",
      "Epoch 7500/10000 W: 2.000, b: 0.000 Cost: 0.000000\n",
      "Epoch 7600/10000 W: 2.000, b: 0.000 Cost: 0.000000\n",
      "Epoch 7700/10000 W: 2.000, b: 0.000 Cost: 0.000000\n",
      "Epoch 7800/10000 W: 2.000, b: 0.000 Cost: 0.000000\n",
      "Epoch 7900/10000 W: 2.000, b: 0.000 Cost: 0.000000\n",
      "Epoch 8000/10000 W: 2.000, b: 0.000 Cost: 0.000000\n",
      "Epoch 8100/10000 W: 2.000, b: 0.000 Cost: 0.000000\n",
      "Epoch 8200/10000 W: 2.000, b: 0.000 Cost: 0.000000\n",
      "Epoch 8300/10000 W: 2.000, b: 0.000 Cost: 0.000000\n",
      "Epoch 8400/10000 W: 2.000, b: 0.000 Cost: 0.000000\n",
      "Epoch 8500/10000 W: 2.000, b: 0.000 Cost: 0.000000\n",
      "Epoch 8600/10000 W: 2.000, b: 0.000 Cost: 0.000000\n",
      "Epoch 8700/10000 W: 2.000, b: 0.000 Cost: 0.000000\n",
      "Epoch 8800/10000 W: 2.000, b: 0.000 Cost: 0.000000\n",
      "Epoch 8900/10000 W: 2.000, b: 0.000 Cost: 0.000000\n",
      "Epoch 9000/10000 W: 2.000, b: 0.000 Cost: 0.000000\n",
      "Epoch 9100/10000 W: 2.000, b: 0.000 Cost: 0.000000\n",
      "Epoch 9200/10000 W: 2.000, b: 0.000 Cost: 0.000000\n",
      "Epoch 9300/10000 W: 2.000, b: 0.000 Cost: 0.000000\n",
      "Epoch 9400/10000 W: 2.000, b: 0.000 Cost: 0.000000\n",
      "Epoch 9500/10000 W: 2.000, b: 0.000 Cost: 0.000000\n",
      "Epoch 9600/10000 W: 2.000, b: 0.000 Cost: 0.000000\n",
      "Epoch 9700/10000 W: 2.000, b: 0.000 Cost: 0.000000\n",
      "Epoch 9800/10000 W: 2.000, b: 0.000 Cost: 0.000000\n",
      "Epoch 9900/10000 W: 2.000, b: 0.000 Cost: 0.000000\n",
      "Epoch 10000/10000 W: 2.000, b: 0.000 Cost: 0.000000\n"
     ]
    }
   ],
   "source": [
    "### ===> 학습 진행\n",
    "# - 에포크 : 처음부터~끝까지 학습하는 것 의미 \n",
    "\n",
    "nb_epochs = 10000                 # 100번 학습\n",
    "\n",
    "for epoch in range(nb_epochs + 1):\n",
    "\n",
    "    # H(x) 계산 = XW+b => 예측값\n",
    "    y_pre = x_train * W + b\n",
    "\n",
    "    # cost 계산 = 합((예측값 - 정답)**2)\n",
    "    cost = torch.mean((y_pre - y_train) ** 2)\n",
    "\n",
    "    # cost로 H(x) 개선\n",
    "    optimizer.zero_grad()           # gradient 0으로 초기화\n",
    "    cost.backward()                 # 비용 함수 미분하여 gradient 계산\n",
    "    # print(f'수식을 w로 미분한 값 : {W.grad}')\n",
    "    \n",
    "    optimizer.step()                # W, b 업데이트\n",
    "    # print(f'업데이트 된 W : {W.grad}, b : {b.grad}')\n",
    "    \n",
    "\n",
    "    # 100번마다 로그 출력\n",
    "    if epoch % 100 == 0:\n",
    "        print(f'Epoch {epoch:4d}/{nb_epochs} W: { W.item():.3f}, b: {b.item():.3f} Cost: {cost.item():.6f}')"
   ]
  },
  {
   "cell_type": "markdown",
   "id": "1791fb3a",
   "metadata": {},
   "source": [
    "- [4] 학습 후 모델 파라미터 확인 <hr>"
   ]
  },
  {
   "cell_type": "code",
   "execution_count": 9,
   "id": "c211c9af",
   "metadata": {},
   "outputs": [
    {
     "data": {
      "text/plain": [
       "(1.9999957084655762, 8.701807018951513e-06)"
      ]
     },
     "execution_count": 9,
     "metadata": {},
     "output_type": "execute_result"
    }
   ],
   "source": [
    "### ===> 학습 완료 후의 W, b  텐서 값 확인\n",
    "W.item(), b.item()"
   ]
  },
  {
   "cell_type": "markdown",
   "id": "1ca27547",
   "metadata": {},
   "source": [
    "- [5] 예측 <hr>"
   ]
  },
  {
   "cell_type": "code",
   "execution_count": 10,
   "id": "b5d0b9e1",
   "metadata": {},
   "outputs": [
    {
     "data": {
      "text/plain": [
       "5.999995708465576"
      ]
     },
     "execution_count": 10,
     "metadata": {},
     "output_type": "execute_result"
    }
   ],
   "source": [
    "### ===> x값 넣고 y값 확인\n",
    "pre_y = W*3+b\n",
    "pre_y.item()"
   ]
  },
  {
   "cell_type": "code",
   "execution_count": null,
   "id": "95b63fc5",
   "metadata": {},
   "outputs": [],
   "source": []
  },
  {
   "cell_type": "code",
   "execution_count": 11,
   "id": "f691de99",
   "metadata": {},
   "outputs": [
    {
     "name": "stdout",
     "output_type": "stream",
     "text": [
      "수식을 w로 미분한 값 : 2.0\n",
      "수식을 w로 미분한 값 : 4.0\n",
      "수식을 w로 미분한 값 : 6.0\n",
      "수식을 w로 미분한 값 : 8.0\n",
      "수식을 w로 미분한 값 : 10.0\n",
      "수식을 w로 미분한 값 : 12.0\n",
      "수식을 w로 미분한 값 : 14.0\n",
      "수식을 w로 미분한 값 : 16.0\n",
      "수식을 w로 미분한 값 : 18.0\n",
      "수식을 w로 미분한 값 : 20.0\n",
      "수식을 w로 미분한 값 : 22.0\n",
      "수식을 w로 미분한 값 : 24.0\n",
      "수식을 w로 미분한 값 : 26.0\n",
      "수식을 w로 미분한 값 : 28.0\n",
      "수식을 w로 미분한 값 : 30.0\n",
      "수식을 w로 미분한 값 : 32.0\n",
      "수식을 w로 미분한 값 : 34.0\n",
      "수식을 w로 미분한 값 : 36.0\n",
      "수식을 w로 미분한 값 : 38.0\n",
      "수식을 w로 미분한 값 : 40.0\n",
      "수식을 w로 미분한 값 : 42.0\n"
     ]
    }
   ],
   "source": [
    "## optimizer.zero_grad()가 필요한 이유\n",
    "## 미분을 통해 얻은 기울기를 이전에 계산된 기울기 값에 누적시키는 특징\n",
    "\n",
    "w = torch.tensor(2.0, requires_grad=True)\n",
    "\n",
    "nb_epochs = 20\n",
    "for epoch in range(nb_epochs + 1):\n",
    "\n",
    "  z = 2*w\n",
    "\n",
    "  z.backward()\n",
    "  print('수식을 w로 미분한 값 : {}'.format(w.grad))"
   ]
  },
  {
   "cell_type": "code",
   "execution_count": null,
   "id": "3cbd4372",
   "metadata": {},
   "outputs": [],
   "source": []
  }
 ],
 "metadata": {
  "kernelspec": {
   "display_name": "Python 3 (ipykernel)",
   "language": "python",
   "name": "python3"
  },
  "language_info": {
   "codemirror_mode": {
    "name": "ipython",
    "version": 3
   },
   "file_extension": ".py",
   "mimetype": "text/x-python",
   "name": "python",
   "nbconvert_exporter": "python",
   "pygments_lexer": "ipython3",
   "version": "3.8.18"
  }
 },
 "nbformat": 4,
 "nbformat_minor": 5
}
