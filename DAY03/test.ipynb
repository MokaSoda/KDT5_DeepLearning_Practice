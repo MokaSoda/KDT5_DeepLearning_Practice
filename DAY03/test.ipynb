{
 "cells": [
  {
   "cell_type": "markdown",
   "metadata": {},
   "source": [
    "### (1) 화면상에서 pytorch 에서 데이터를 저장하는 단위는 (tensor) 입니다."
   ]
  },
  {
   "cell_type": "markdown",
   "metadata": {},
   "source": [
    "### \n",
    "(2) 텐서의 경우 torch 를 통해 생성할 수 있으며 cuda 를 지원하는 그래픽카드에서도 해당 데이터 저장단위를 로딩할 수 있습니다.  \n",
    " 텐서에서 shape (크기), size() (크기메서드), ndim (차원), dtype (데이터타입), is_contiguous() (데이터가 메모리상에서 연속저장 여부), contiguous() (연속저장 기능), T (transpose), data_ptr() 데이터 포인터, view() (메모리 연속적으로 저장시 텐서 저장 차원 형태를 변경), reshape() 메모리에서의 저장 형태와 관련 없이 텐서의 차원 형태 변경 등등이 있씁니다"
   ]
  },
  {
   "cell_type": "markdown",
   "metadata": {},
   "source": [
    "(3) 정수형 데이터 저장방식 (numpy와 유사)\n",
    "\n",
    "- torch.int8\n",
    "- torch.int16\n",
    "- torch.int32\n",
    "- torch.int64\n",
    "- torch.uint8\n",
    "- torch.uint16\n",
    "- torch.uint32\n",
    "- torch.uint64\n",
    "등등이 있습니다.  \n",
    "\n",
    "u 가 붙은 것은 양의 정수 (0~비트수만큼) 만큼 저장가능하며  \n",
    "u 가 생략된 데이터 타입은 음의 정수 만큼 저장 가능합니다.  \n",
    "(-2^(비트수-1)~ [2^(비트수-1) -1]) 까지 저장가능합니다.\n"
   ]
  },
  {
   "cell_type": "code",
   "execution_count": 2,
   "metadata": {},
   "outputs": [],
   "source": [
    "\n",
    "import torch"
   ]
  },
  {
   "cell_type": "markdown",
   "metadata": {},
   "source": [
    "### (4) 문제"
   ]
  },
  {
   "cell_type": "code",
   "execution_count": 3,
   "metadata": {},
   "outputs": [
    {
     "name": "stdout",
     "output_type": "stream",
     "text": [
      "shape : torch.Size([7])\n",
      "size : torch.Size([7])\n",
      "ndim : 1\n",
      "dtype : torch.bool\n",
      "is_contiguous : True\n",
      "contiguous : tensor([ True,  True,  True,  True, False,  True, False])\n",
      "data_ptr : 101020416\n"
     ]
    }
   ],
   "source": [
    "tbool = torch.tensor(\n",
    "    [\n",
    "        10,\n",
    "        -5,\n",
    "        1.4,\n",
    "        7,\n",
    "        0,\n",
    "        -1,\n",
    "        0\n",
    "],\n",
    " dtype=torch.bool\n",
    " )\n",
    "\n",
    "tbool.shape, tbool.size(), tbool.ndim, tbool.dtype, tbool.is_contiguous(), tbool.contiguous(), tbool.data_ptr()\n",
    "\n",
    "attributes = ['shape', 'size',  'ndim', 'dtype', 'is_contiguous', 'contiguous', 'data_ptr']\n",
    "for attr in attributes:\n",
    "    try:\n",
    "        print(f'{attr} : {getattr(tbool, attr)()}')\n",
    "    except:\n",
    "        print(f'{attr} : {getattr(tbool, attr)}')\n",
    "\n"
   ]
  },
  {
   "cell_type": "markdown",
   "metadata": {},
   "source": [
    "### (5) 문제"
   ]
  },
  {
   "cell_type": "code",
   "execution_count": 4,
   "metadata": {},
   "outputs": [
    {
     "data": {
      "text/plain": [
       "tensor([[0., 0., 0., 0., 0.],\n",
       "        [0., 0., 0., 0., 0.]])"
      ]
     },
     "execution_count": 4,
     "metadata": {},
     "output_type": "execute_result"
    }
   ],
   "source": [
    "data = torch.zeros((2,5))\n",
    "data"
   ]
  },
  {
   "cell_type": "markdown",
   "metadata": {},
   "source": [
    "### (6) 문제"
   ]
  },
  {
   "cell_type": "code",
   "execution_count": 5,
   "metadata": {},
   "outputs": [
    {
     "data": {
      "text/plain": [
       "tensor([[1., 0., 0., 0., 0.],\n",
       "        [0., 1., 0., 0., 0.],\n",
       "        [0., 0., 1., 0., 0.],\n",
       "        [0., 0., 0., 1., 0.],\n",
       "        [0., 0., 0., 0., 1.]])"
      ]
     },
     "execution_count": 5,
     "metadata": {},
     "output_type": "execute_result"
    }
   ],
   "source": [
    "eye5 = torch.eye(5)\n",
    "eye5"
   ]
  },
  {
   "cell_type": "markdown",
   "metadata": {},
   "source": [
    "### (7) 문제"
   ]
  },
  {
   "cell_type": "code",
   "execution_count": 6,
   "metadata": {},
   "outputs": [
    {
     "data": {
      "text/plain": [
       "tensor([[3., 0., 0., 0., 0.],\n",
       "        [0., 3., 0., 0., 0.],\n",
       "        [0., 0., 3., 0., 0.],\n",
       "        [0., 0., 0., 3., 0.],\n",
       "        [0., 0., 0., 0., 3.]])"
      ]
     },
     "execution_count": 6,
     "metadata": {},
     "output_type": "execute_result"
    }
   ],
   "source": [
    "eye5as3 = eye5 * 3\n",
    "eye5as3"
   ]
  },
  {
   "cell_type": "markdown",
   "metadata": {},
   "source": [
    "### (8) 문제"
   ]
  },
  {
   "cell_type": "code",
   "execution_count": 7,
   "metadata": {},
   "outputs": [
    {
     "data": {
      "text/plain": [
       "tensor([ 7., 14., 21., 28., 35., 42., 49., 56., 63., 70., 77., 84., 91., 98.])"
      ]
     },
     "execution_count": 7,
     "metadata": {},
     "output_type": "execute_result"
    }
   ],
   "source": [
    "import numpy\n",
    "\n",
    "intermidate = numpy.arange(7,101,7).astype(numpy.float32)\n",
    "ans8 = torch.from_numpy(intermidate)\n",
    "ans8"
   ]
  },
  {
   "cell_type": "code",
   "execution_count": 12,
   "metadata": {},
   "outputs": [
    {
     "data": {
      "text/plain": [
       "torch.Size([80])"
      ]
     },
     "execution_count": 12,
     "metadata": {},
     "output_type": "execute_result"
    }
   ],
   "source": [
    "image = torch.randint(0,255, (1, 3, 120, 80)).type(torch.uint8)\n",
    "image[0, 0, 0, :].shape\n"
   ]
  },
  {
   "cell_type": "markdown",
   "metadata": {},
   "source": [
    "### (10) 문제"
   ]
  },
  {
   "cell_type": "code",
   "execution_count": 9,
   "metadata": {},
   "outputs": [
    {
     "name": "stdout",
     "output_type": "stream",
     "text": [
      "torch.Size([10])\n",
      "torch.Size([1, 2, 5])\n",
      "torch.Size([5, 2, 1])\n",
      "torch.Size([5, 1, 2])\n"
     ]
    }
   ],
   "source": [
    "# (1)\n",
    "\n",
    "oneD = torch.randint(1,100,(10,))\n",
    "\n",
    "# (2)\n",
    "threeD = oneD.reshape(1,2,5)\n",
    "\n",
    "# (3)\n",
    "threeDT = torch.transpose(threeD, 0, 2)\n",
    "\n",
    "# (4)\n",
    "threeDPermute = torch.permute(threeD, (2,0,1))\n",
    "\n",
    "for x in [oneD, threeD, threeDT, threeDPermute]:\n",
    "    print(x.shape)"
   ]
  },
  {
   "cell_type": "markdown",
   "metadata": {},
   "source": [
    "### (11) 문제"
   ]
  },
  {
   "cell_type": "code",
   "execution_count": 10,
   "metadata": {},
   "outputs": [
    {
     "name": "stdout",
     "output_type": "stream",
     "text": [
      "과목별 합계 \n",
      "국어    240\n",
      "영어    250\n",
      "수학    264\n",
      "dtype: int64\n",
      "과목별 평균 \n",
      "국어    80.000000\n",
      "영어    83.333333\n",
      "수학    88.000000\n",
      "dtype: float64\n",
      "과목별 최고점수 \n",
      "국어     90\n",
      "영어    100\n",
      "수학     99\n",
      "dtype: int64\n",
      "개인별 합계 \n",
      "0    259\n",
      "1    258\n",
      "2    237\n",
      "dtype: int64\n",
      "개인별 평균 \n",
      "0    86.333333\n",
      "1    86.000000\n",
      "2    79.000000\n",
      "dtype: float64\n",
      "개인별 최고점수 \n",
      "0     99\n",
      "1    100\n",
      "2     80\n",
      "dtype: int64\n"
     ]
    }
   ],
   "source": [
    "import pandas as pd\n",
    "\n",
    "# (1)\n",
    "datadf = pd.DataFrame(\n",
    "    {\n",
    "        '국어' : [90,70,80],\n",
    "        '영어' : [70,100,80],\n",
    "        '수학' : [99,88,77],\n",
    "    }\n",
    ")\n",
    "\n",
    "#(2)\n",
    "\n",
    "print(f\"과목별 합계 \\n{datadf.sum()}\")\n",
    "print(f\"과목별 평균 \\n{datadf.mean()}\")\n",
    "print(f\"과목별 최고점수 \\n{datadf.max()}\")\n",
    "\n",
    "#(3)\n",
    "print(f\"개인별 합계 \\n{datadf.sum(axis  = 1)}\")\n",
    "print(f\"개인별 평균 \\n{datadf.mean(axis  = 1)}\")\n",
    "print(f\"개인별 최고점수 \\n{datadf.max(axis  = 1)}\")\n",
    "\n",
    "\n",
    "\n"
   ]
  },
  {
   "cell_type": "markdown",
   "metadata": {},
   "source": [
    "### (12) 문제"
   ]
  },
  {
   "cell_type": "code",
   "execution_count": 11,
   "metadata": {},
   "outputs": [
    {
     "name": "stdout",
     "output_type": "stream",
     "text": [
      "mul : tensor([[45.0000, 14.0000, 69.3000],\n",
      "        [35.0000, 20.0000, 61.6000],\n",
      "        [40.0000, 16.0000, 53.9000]], dtype=torch.float64)\n",
      "add : tensor([[ 90.5000,  70.2000,  99.7000],\n",
      "        [ 70.5000, 100.2000,  88.7000],\n",
      "        [ 80.5000,  80.2000,  77.7000]], dtype=torch.float64)\n",
      "div : tensor([[180.0000, 350.0000, 141.4286],\n",
      "        [140.0000, 500.0000, 125.7143],\n",
      "        [160.0000, 400.0000, 110.0000]], dtype=torch.float64)\n",
      "sub : tensor([[89.5000, 69.8000, 98.3000],\n",
      "        [69.5000, 99.8000, 87.3000],\n",
      "        [79.5000, 79.8000, 76.3000]], dtype=torch.float64)\n",
      "matmul : tensor([128.3000, 116.6000, 109.9000], dtype=torch.float64)\n"
     ]
    }
   ],
   "source": [
    "datasr2 = pd.Series([0.5,0.2,0.7])\n",
    "# (1)\n",
    "data2 = torch.from_numpy(datasr2.values)\n",
    "data1 = torch.from_numpy(datadf.to_numpy().astype(numpy.float64))\n",
    "\n",
    "# (2), (3)\n",
    "operators = ['mul','add','div', 'sub', 'matmul']\n",
    "for x in operators:\n",
    "    print(f\"{x} : {getattr(data1, x)(data2)}\")\n"
   ]
  }
 ],
 "metadata": {
  "kernelspec": {
   "display_name": "EXAM_DL",
   "language": "python",
   "name": "python3"
  },
  "language_info": {
   "codemirror_mode": {
    "name": "ipython",
    "version": 3
   },
   "file_extension": ".py",
   "mimetype": "text/x-python",
   "name": "python",
   "nbconvert_exporter": "python",
   "pygments_lexer": "ipython3",
   "version": "3.8.18"
  }
 },
 "nbformat": 4,
 "nbformat_minor": 2
}
