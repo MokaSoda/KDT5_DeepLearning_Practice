{
 "cells": [
  {
   "cell_type": "code",
   "execution_count": 1,
   "metadata": {},
   "outputs": [],
   "source": [
    "# !conda install imageio -y"
   ]
  },
  {
   "cell_type": "code",
   "execution_count": 17,
   "metadata": {},
   "outputs": [],
   "source": [
    "# !conda install numba -y"
   ]
  },
  {
   "cell_type": "code",
   "execution_count": 26,
   "metadata": {},
   "outputs": [],
   "source": [
    "import imageio.v3 as imageio\n",
    "# from numba import jit\n",
    "\n",
    "filelocation = '../data/image/sample.jpg'\n",
    "\n",
    "# @jit\n",
    "def load_image_as_numpy(filelocation):\n",
    "    image_np = imageio.imread(filelocation)\n",
    "    image_np = image_np.transpose(2, 0, 1)\n",
    "    return image_np\n"
   ]
  },
  {
   "cell_type": "code",
   "execution_count": 27,
   "metadata": {},
   "outputs": [],
   "source": [
    "import torch\n",
    "\n",
    "imagetorch = torch.from_numpy(load_image_as_numpy(filelocation))\n",
    "imagetorch_tensor = torch.tensor(load_image_as_numpy(filelocation))\n",
    "imagetorch_astorch = torch.as_tensor(imagetorch, dtype=torch.uint8)\n"
   ]
  },
  {
   "cell_type": "code",
   "execution_count": null,
   "metadata": {},
   "outputs": [],
   "source": []
  }
 ],
 "metadata": {
  "kernelspec": {
   "display_name": "EXAM_DL",
   "language": "python",
   "name": "python3"
  },
  "language_info": {
   "codemirror_mode": {
    "name": "ipython",
    "version": 3
   },
   "file_extension": ".py",
   "mimetype": "text/x-python",
   "name": "python",
   "nbconvert_exporter": "python",
   "pygments_lexer": "ipython3",
   "version": "3.8.18"
  }
 },
 "nbformat": 4,
 "nbformat_minor": 2
}
