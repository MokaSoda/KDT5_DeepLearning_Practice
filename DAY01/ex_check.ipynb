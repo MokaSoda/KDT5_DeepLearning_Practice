{
 "cells": [
  {
   "cell_type": "code",
   "execution_count": 5,
   "metadata": {},
   "outputs": [
    {
     "data": {
      "text/plain": [
       "'2.2.0'"
      ]
     },
     "execution_count": 5,
     "metadata": {},
     "output_type": "execute_result"
    }
   ],
   "source": [
    "import torch\n",
    "import seaborn, matplotlib, sklearn, pandas, numpy\n",
    "torch.__version__"
   ]
  },
  {
   "cell_type": "code",
   "execution_count": 10,
   "metadata": {},
   "outputs": [
    {
     "name": "stdout",
     "output_type": "stream",
     "text": [
      "numpy 1.24.3\n",
      "pandas 2.0.3\n",
      "matplotlib 3.7.2\n",
      "seaborn 0.12.2\n",
      "sklearn 1.3.0\n",
      "torch 2.2.0\n"
     ]
    }
   ],
   "source": [
    "modules = [numpy, pandas, matplotlib, seaborn, sklearn, torch]\n",
    "for x in modules:\n",
    "    print(getattr(x, \"__name__\"), getattr(x, '__version__'))"
   ]
  },
  {
   "cell_type": "code",
   "execution_count": 12,
   "metadata": {},
   "outputs": [
    {
     "name": "stdout",
     "output_type": "stream",
     "text": [
      "GPU = False\n"
     ]
    }
   ],
   "source": [
    "print(f\"GPU = {torch.cuda.is_available()}\")"
   ]
  },
  {
   "cell_type": "code",
   "execution_count": 13,
   "metadata": {},
   "outputs": [],
   "source": [
    "# 저장 및 실행 Device 설정\n",
    "\n",
    "DEVICE = 'gpu' if torch.cuda.is_available() else 'cpu'\n",
    "\n"
   ]
  }
 ],
 "metadata": {
  "kernelspec": {
   "display_name": "Torch_PY38",
   "language": "python",
   "name": "python3"
  },
  "language_info": {
   "codemirror_mode": {
    "name": "ipython",
    "version": 3
   },
   "file_extension": ".py",
   "mimetype": "text/x-python",
   "name": "python",
   "nbconvert_exporter": "python",
   "pygments_lexer": "ipython3",
   "version": "3.8.18"
  }
 },
 "nbformat": 4,
 "nbformat_minor": 2
}
