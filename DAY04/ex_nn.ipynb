{
 "cells": [
  {
   "cell_type": "markdown",
   "metadata": {},
   "source": [
    "### 인공신경망 모델 클래스 만들기\n",
    "<br>\n",
    "\n",
    "- 부모 클래스 : nn.Module 상속 받음\n",
    "- 필수 오버라이딩 메서드 : \\_ \\_init\\_ \\_(), forward()\n"
   ]
  },
  {
   "cell_type": "markdown",
   "metadata": {},
   "source": [
    "### (1) 모듈로딩 \n",
    "<hr>"
   ]
  },
  {
   "cell_type": "code",
   "execution_count": 80,
   "metadata": {},
   "outputs": [],
   "source": [
    "import torch\n",
    "import torch.nn as nn\n",
    "import torch.optim as optim\n",
    "import torch.nn.functional as F"
   ]
  },
  {
   "cell_type": "code",
   "execution_count": 81,
   "metadata": {},
   "outputs": [],
   "source": [
    "class model(nn.Module):\n",
    "    # 모델 구조 설명\n",
    "    def __init__(self, in_, out_):\n",
    "        super().__init__()\n",
    "        self.fc1 = nn.Linear(in_, 10000)\n",
    "        self.ReLU = nn.ReLU()\n",
    "        self.tanh = nn.Tanh()\n",
    "        self.fc2 = nn.Linear(10000, out_)\n",
    "        self.sigmoid = nn.Sigmoid()\n",
    "\n",
    "    # 순방향 학습 진행 콜백함수\n",
    "    def forward(self, x):\n",
    "        x = self.fc1(x)\n",
    "        x = self.tanh(x)\n",
    "        x = self.fc2(x)\n",
    "        x = self.sigmoid(x)\n",
    "        return x\n",
    "\n"
   ]
  },
  {
   "cell_type": "code",
   "execution_count": 82,
   "metadata": {},
   "outputs": [
    {
     "data": {
      "text/plain": [
       "('모델구조',\n",
       " model(\n",
       "   (fc1): Linear(in_features=784, out_features=10000, bias=True)\n",
       "   (ReLU): ReLU()\n",
       "   (tanh): Tanh()\n",
       "   (fc2): Linear(in_features=10000, out_features=2, bias=True)\n",
       "   (sigmoid): Sigmoid()\n",
       " ))"
      ]
     },
     "execution_count": 82,
     "metadata": {},
     "output_type": "execute_result"
    }
   ],
   "source": [
    "# 모델 인스턴스 생성됨\n",
    "test = model(28*28, 2)\n",
    "test(torch.randint(0, 255, (1, 784)).type(torch.float32))\n",
    "'모델구조', test"
   ]
  },
  {
   "cell_type": "code",
   "execution_count": 83,
   "metadata": {},
   "outputs": [
    {
     "name": "stdout",
     "output_type": "stream",
     "text": [
      "torch.Size([10000, 784])\n",
      "torch.Size([10000])\n",
      "torch.Size([2, 10000])\n",
      "torch.Size([2])\n"
     ]
    },
    {
     "data": {
      "text/plain": [
       "[None, None, None, None]"
      ]
     },
     "execution_count": 83,
     "metadata": {},
     "output_type": "execute_result"
    }
   ],
   "source": [
    "[print(x.shape) for x in test.parameters()]"
   ]
  }
 ],
 "metadata": {
  "kernelspec": {
   "display_name": "EXAM_DL",
   "language": "python",
   "name": "python3"
  },
  "language_info": {
   "codemirror_mode": {
    "name": "ipython",
    "version": 3
   },
   "file_extension": ".py",
   "mimetype": "text/x-python",
   "name": "python",
   "nbconvert_exporter": "python",
   "pygments_lexer": "ipython3",
   "version": "3.8.18"
  }
 },
 "nbformat": 4,
 "nbformat_minor": 2
}
