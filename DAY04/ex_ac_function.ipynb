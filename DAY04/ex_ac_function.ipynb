{
 "cells": [
  {
   "cell_type": "markdown",
   "metadata": {},
   "source": [
    "### softmax() , sigmoid() 함수 \n",
    "<hr>\n",
    "\n",
    "- sigmoid() : $ y = wx + b $ 결과 1개를 전달 ==> 반환 : 0.0 ~ 1.0 사이 값으로 변환\n",
    "    * => 이진분류\n",
    "- softmax() : $ y = \\frac{e^{wx + b}}{\\sum_{i=1}^{n}e^{w_ix_i + b_i}}$ 결과를 여러개 전달 ==> 반환 : 여러개의 결과값의 합이 1.0 이 되도록 변환\n",
    "    * => 다중분류"
   ]
  },
  {
   "cell_type": "code",
   "execution_count": 3,
   "metadata": {},
   "outputs": [],
   "source": [
    "import torch                    # 파이토치 기본 모듈로 텐서 및 기본 함수들\n",
    "import torch.nn.functional as F # 파이토치 인공신경망 관련 함수\n",
    "try:\n",
    "    import intel_extension_for_pytorch as ipex\n",
    "except:\n",
    "    pass"
   ]
  },
  {
   "cell_type": "code",
   "execution_count": 13,
   "metadata": {},
   "outputs": [
    {
     "data": {
      "text/plain": [
       "torch.Size([5])"
      ]
     },
     "execution_count": 13,
     "metadata": {},
     "output_type": "execute_result"
    }
   ],
   "source": [
    "data1 = torch.tensor([1.0, 2.0, 3.0, 1.1,2.2], dtype=torch.float32)\n",
    "data1.shape"
   ]
  },
  {
   "cell_type": "code",
   "execution_count": 14,
   "metadata": {},
   "outputs": [
    {
     "data": {
      "text/plain": [
       "tensor([[1.0000],\n",
       "        [2.0000],\n",
       "        [3.0000],\n",
       "        [1.1000],\n",
       "        [2.2000]])"
      ]
     },
     "execution_count": 14,
     "metadata": {},
     "output_type": "execute_result"
    }
   ],
   "source": [
    "F.sigmoid(data1)\n",
    "data1.unsqueeze_(1)"
   ]
  },
  {
   "cell_type": "code",
   "execution_count": 20,
   "metadata": {},
   "outputs": [
    {
     "data": {
      "text/plain": [
       "tensor([[ 0.6981, -0.0644,  0.2611, -1.2345,  0.4600],\n",
       "        [-0.9148,  0.5164,  1.7515,  1.2003, -0.7133]])"
      ]
     },
     "execution_count": 20,
     "metadata": {},
     "output_type": "execute_result"
    }
   ],
   "source": [
    "input = torch.randn(2,5)\n",
    "input"
   ]
  },
  {
   "cell_type": "code",
   "execution_count": 27,
   "metadata": {},
   "outputs": [
    {
     "data": {
      "text/plain": [
       "(tensor([[0.3284, 0.1532, 0.2121, 0.0475, 0.2588],\n",
       "         [0.0344, 0.1438, 0.4947, 0.2851, 0.0421]]),\n",
       " tensor([[0.8338, 0.3588, 0.1838, 0.0806, 0.7637],\n",
       "         [0.1662, 0.6412, 0.8162, 0.9194, 0.2363]]))"
      ]
     },
     "execution_count": 27,
     "metadata": {},
     "output_type": "execute_result"
    }
   ],
   "source": [
    "F.softmax(input, dim=1), F.softmax(input, dim=0)"
   ]
  },
  {
   "cell_type": "code",
   "execution_count": 18,
   "metadata": {},
   "outputs": [
    {
     "data": {
      "text/plain": [
       "(tensor([[0.0644],\n",
       "         [0.1750],\n",
       "         [0.4757],\n",
       "         [0.0712],\n",
       "         [0.2138]]),\n",
       " tensor([[1.],\n",
       "         [1.],\n",
       "         [1.],\n",
       "         [1.],\n",
       "         [1.]]))"
      ]
     },
     "execution_count": 18,
     "metadata": {},
     "output_type": "execute_result"
    }
   ],
   "source": [
    "F.softmax(data1, dim=0), F.softmax(data1, dim=1)"
   ]
  },
  {
   "cell_type": "code",
   "execution_count": null,
   "metadata": {},
   "outputs": [],
   "source": []
  }
 ],
 "metadata": {
  "kernelspec": {
   "display_name": "EXAM_DL",
   "language": "python",
   "name": "python3"
  },
  "language_info": {
   "codemirror_mode": {
    "name": "ipython",
    "version": 3
   },
   "file_extension": ".py",
   "mimetype": "text/x-python",
   "name": "python",
   "nbconvert_exporter": "python",
   "pygments_lexer": "ipython3",
   "version": "3.8.18"
  }
 },
 "nbformat": 4,
 "nbformat_minor": 2
}
