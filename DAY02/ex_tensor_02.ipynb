{
 "cells": [
  {
   "cell_type": "markdown",
   "metadata": {},
   "source": [
    "## 텐서 원소 / 요소 접근\n",
    "- 인덱싱과 슬라이싱"
   ]
  },
  {
   "cell_type": "code",
   "execution_count": 1,
   "metadata": {},
   "outputs": [],
   "source": [
    "from torch import *\n",
    "import torch\n",
    "import intel_extension_for_pytorch as ipex\n",
    "import numpy as np"
   ]
  },
  {
   "cell_type": "code",
   "execution_count": 2,
   "metadata": {},
   "outputs": [
    {
     "data": {
      "text/plain": [
       "'2.2.0+cu121'"
      ]
     },
     "execution_count": 2,
     "metadata": {},
     "output_type": "execute_result"
    }
   ],
   "source": [
    "torch.__version__ "
   ]
  },
  {
   "cell_type": "code",
   "execution_count": 3,
   "metadata": {},
   "outputs": [
    {
     "data": {
      "text/plain": [
       "tensor([[  3.6066,  -2.8592],\n",
       "        [ -3.9382,   2.4294],\n",
       "        [-13.8332, -23.1344]])"
      ]
     },
     "execution_count": 3,
     "metadata": {},
     "output_type": "execute_result"
    }
   ],
   "source": [
    "manual_seed(100)\n",
    "points = randn((3,2)) * 10\n",
    "points"
   ]
  },
  {
   "cell_type": "code",
   "execution_count": 4,
   "metadata": {},
   "outputs": [
    {
     "data": {
      "text/plain": [
       "tensor(-2.8592)"
      ]
     },
     "execution_count": 4,
     "metadata": {},
     "output_type": "execute_result"
    }
   ],
   "source": [
    "# Tensor 원소 1개 접근\n",
    "# 1행 2열 데이터 추출\n",
    "points[0,1]"
   ]
  },
  {
   "cell_type": "code",
   "execution_count": 5,
   "metadata": {},
   "outputs": [
    {
     "data": {
      "text/plain": [
       "tensor([[ -3.9382,   2.4294],\n",
       "        [-13.8332, -23.1344]])"
      ]
     },
     "execution_count": 5,
     "metadata": {},
     "output_type": "execute_result"
    }
   ],
   "source": [
    "# 1번 행 인덱스 부터 나머지 모든 행 추출\n",
    "points[1:]"
   ]
  },
  {
   "cell_type": "code",
   "execution_count": 6,
   "metadata": {},
   "outputs": [
    {
     "data": {
      "text/plain": [
       "tensor(-23.1344)"
      ]
     },
     "execution_count": 6,
     "metadata": {},
     "output_type": "execute_result"
    }
   ],
   "source": [
    "# 마지막 행 마지막 열\n",
    "points[-1,-1]"
   ]
  },
  {
   "cell_type": "code",
   "execution_count": 7,
   "metadata": {},
   "outputs": [
    {
     "data": {
      "text/plain": [
       "torch.Size([1, 3, 2])"
      ]
     },
     "execution_count": 7,
     "metadata": {},
     "output_type": "execute_result"
    }
   ],
   "source": [
    "points[None].shape"
   ]
  },
  {
   "cell_type": "markdown",
   "metadata": {},
   "source": [
    "- Broadcasting 연산\n",
    "\n",
    "\n"
   ]
  },
  {
   "cell_type": "code",
   "execution_count": 8,
   "metadata": {},
   "outputs": [
    {
     "data": {
      "text/plain": [
       "(tensor([[ 3.,  6.,  9.],\n",
       "         [16., 20., 24.]]),\n",
       " torch.Size([2, 3]),\n",
       " torch.Size([2, 1]),\n",
       " tensor([[ 4.,  5.,  6.],\n",
       "         [ 8.,  9., 10.]]))"
      ]
     },
     "execution_count": 8,
     "metadata": {},
     "output_type": "execute_result"
    }
   ],
   "source": [
    "manual_seed(42)\n",
    "\n",
    "t1 = FloatTensor([[1,2,3], [4,5,6]])\n",
    "t2 = FloatTensor([[3],[4]])\n",
    "\n",
    "t1 * t2, t1.shape, t2.shape, t1 + t2,\n"
   ]
  },
  {
   "cell_type": "code",
   "execution_count": 9,
   "metadata": {},
   "outputs": [
    {
     "data": {
      "text/plain": [
       "(tensor([[ 4.,  5.,  6.],\n",
       "         [ 8.,  9., 10.]]),\n",
       " tensor([[ 3.,  6.,  9.],\n",
       "         [16., 20., 24.]]),\n",
       " tensor([[0.3333, 0.6667, 1.0000],\n",
       "         [1.0000, 1.2500, 1.5000]]),\n",
       " tensor([[-2., -1.,  0.],\n",
       "         [ 0.,  1.,  2.]]),\n",
       " tensor([[1.0000e+00, 8.0000e+00, 2.7000e+01],\n",
       "         [2.5600e+02, 6.2500e+02, 1.2960e+03]]),\n",
       " tensor([[1., 2., 0.],\n",
       "         [0., 1., 2.]]),\n",
       " tensor([[3., 3., 3.],\n",
       "         [3., 3., 3.]]))"
      ]
     },
     "execution_count": 9,
     "metadata": {},
     "output_type": "execute_result"
    }
   ],
   "source": [
    "#원소단위 연산 수행 메서드들\n",
    "t1.add(t2), t1.mul(t2), t1.div(t2), t1.sub(t2), t1.pow(t2), t1.remainder(t2), t1.clamp(min=t2.max(), max=t2.min())"
   ]
  },
  {
   "cell_type": "code",
   "execution_count": null,
   "metadata": {},
   "outputs": [],
   "source": [
    "\n"
   ]
  }
 ],
 "metadata": {
  "kernelspec": {
   "display_name": "Torch_PY38",
   "language": "python",
   "name": "python3"
  },
  "language_info": {
   "codemirror_mode": {
    "name": "ipython",
    "version": 3
   },
   "file_extension": ".py",
   "mimetype": "text/x-python",
   "name": "python",
   "nbconvert_exporter": "python",
   "pygments_lexer": "ipython3",
   "version": "3.8.18"
  }
 },
 "nbformat": 4,
 "nbformat_minor": 2
}
