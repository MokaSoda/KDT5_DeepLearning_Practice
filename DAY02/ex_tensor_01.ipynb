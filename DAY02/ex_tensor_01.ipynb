{
 "cells": [
  {
   "cell_type": "markdown",
   "metadata": {},
   "source": [
    "## 텐서(Tensor) 살펴보기\n",
    "- pytorch 에서 데이터 저장형\n",
    "- 모델 입력 (input), 출력(output) 데이터 형태"
   ]
  },
  {
   "cell_type": "markdown",
   "metadata": {},
   "source": [
    "### (1) 모듈 로딩하기"
   ]
  },
  {
   "cell_type": "code",
   "execution_count": 21,
   "metadata": {},
   "outputs": [],
   "source": [
    "import torch\n",
    "import numpy as np\n",
    "\n",
    "if torch.cuda.is_available():\n",
    "    from torch.cuda import *\n",
    "else:\n",
    "    from torch import *\n"
   ]
  },
  {
   "cell_type": "markdown",
   "metadata": {},
   "source": [
    "- Tensor 속성 관련 함수\n"
   ]
  },
  {
   "cell_type": "code",
   "execution_count": 22,
   "metadata": {},
   "outputs": [],
   "source": [
    "# 매개변수 : 텐서 인스턴스, 텐서 변수명\n",
    "def tensor_properties(tensor, name):\n",
    "    print(f'{name} 텐서의 속성')\n",
    "    print(f'{name} 텐서의 데이터 타입 : {tensor.dtype}')\n",
    "    print(f'{name} 텐서의 데이터 형태 : {tensor.shape}')\n",
    "    print(f'{name} 텐서의 데이터 크기 : {tensor.size()}')\n",
    "    print(f'{name} 텐서의 데이터 차원 : {tensor.ndim}')\n",
    "    print(f'{name} 텐서의 경사하강법 여부 : {tensor.requires_grad}')\n",
    "    print(f\"{name} 텐서의 실 데이터 : \\n{tensor.data}\")\n",
    "    print(f\"{name} 텐서의 실행 장소 : {tensor.device}\")"
   ]
  },
  {
   "cell_type": "markdown",
   "metadata": {},
   "source": [
    "- Tensor 생성 (1) : 특정 데이터 타입의 텐서 생성\n",
    "    * 타입별 텐서 클래스 생성자 활용\n",
    "    * 예) IntTensor(), FloatTensor(), BoolTensor()"
   ]
  },
  {
   "cell_type": "code",
   "execution_count": 23,
   "metadata": {},
   "outputs": [
    {
     "name": "stdout",
     "output_type": "stream",
     "text": [
      "test 텐서의 속성\n",
      "test 텐서의 데이터 타입 : torch.int32\n",
      "test 텐서의 데이터 형태 : torch.Size([3, 4, 5])\n",
      "test 텐서의 데이터 크기 : torch.Size([3, 4, 5])\n",
      "test 텐서의 데이터 차원 : 3\n",
      "test 텐서의 경사하강법 여부 : False\n",
      "test 텐서의 실 데이터 : \n",
      "tensor([[[1, 1, 1, 1, 1],\n",
      "         [1, 1, 1, 1, 1],\n",
      "         [1, 1, 1, 1, 1],\n",
      "         [1, 1, 1, 1, 1]],\n",
      "\n",
      "        [[1, 1, 1, 1, 1],\n",
      "         [1, 1, 1, 1, 1],\n",
      "         [1, 1, 1, 1, 1],\n",
      "         [1, 1, 1, 1, 1]],\n",
      "\n",
      "        [[1, 1, 1, 1, 1],\n",
      "         [1, 1, 1, 1, 1],\n",
      "         [1, 1, 1, 1, 1],\n",
      "         [1, 1, 1, 1, 1]]], dtype=torch.int32)\n",
      "test 텐서의 실행 장소 : cpu\n"
     ]
    }
   ],
   "source": [
    "test = IntTensor(np.ones((3,4,5)))\n",
    "tensor_properties(test, 'test')\n",
    "# dir(test)\n",
    "\n"
   ]
  },
  {
   "cell_type": "code",
   "execution_count": 24,
   "metadata": {},
   "outputs": [
    {
     "name": "stdout",
     "output_type": "stream",
     "text": [
      "t2 텐서의 속성\n",
      "t2 텐서의 데이터 타입 : torch.bool\n",
      "t2 텐서의 데이터 형태 : torch.Size([3, 4, 5])\n",
      "t2 텐서의 데이터 크기 : torch.Size([3, 4, 5])\n",
      "t2 텐서의 데이터 차원 : 3\n",
      "t2 텐서의 경사하강법 여부 : False\n",
      "t2 텐서의 실 데이터 : \n",
      "tensor([[[True, True, True, True, True],\n",
      "         [True, True, True, True, True],\n",
      "         [True, True, True, True, True],\n",
      "         [True, True, True, True, True]],\n",
      "\n",
      "        [[True, True, True, True, True],\n",
      "         [True, True, True, True, True],\n",
      "         [True, True, True, True, True],\n",
      "         [True, True, True, True, True]],\n",
      "\n",
      "        [[True, True, True, True, True],\n",
      "         [True, True, True, True, True],\n",
      "         [True, True, True, True, True],\n",
      "         [True, True, True, True, True]]])\n",
      "t2 텐서의 실행 장소 : cpu\n"
     ]
    }
   ],
   "source": [
    "t2 = BoolTensor(np.ones((3,4,5)))\n",
    "tensor_properties(t2, 't2')"
   ]
  },
  {
   "cell_type": "code",
   "execution_count": 25,
   "metadata": {},
   "outputs": [
    {
     "name": "stdout",
     "output_type": "stream",
     "text": [
      "t3 텐서의 속성\n",
      "t3 텐서의 데이터 타입 : torch.float32\n",
      "t3 텐서의 데이터 형태 : torch.Size([3, 4, 5])\n",
      "t3 텐서의 데이터 크기 : torch.Size([3, 4, 5])\n",
      "t3 텐서의 데이터 차원 : 3\n",
      "t3 텐서의 경사하강법 여부 : False\n",
      "t3 텐서의 실 데이터 : \n",
      "tensor([[[0.1000, 0.1000, 0.1000, 0.1000, 0.1000],\n",
      "         [0.1000, 0.1000, 0.1000, 0.1000, 0.1000],\n",
      "         [0.1000, 0.1000, 0.1000, 0.1000, 0.1000],\n",
      "         [0.1000, 0.1000, 0.1000, 0.1000, 0.1000]],\n",
      "\n",
      "        [[0.1000, 0.1000, 0.1000, 0.1000, 0.1000],\n",
      "         [0.1000, 0.1000, 0.1000, 0.1000, 0.1000],\n",
      "         [0.1000, 0.1000, 0.1000, 0.1000, 0.1000],\n",
      "         [0.1000, 0.1000, 0.1000, 0.1000, 0.1000]],\n",
      "\n",
      "        [[0.1000, 0.1000, 0.1000, 0.1000, 0.1000],\n",
      "         [0.1000, 0.1000, 0.1000, 0.1000, 0.1000],\n",
      "         [0.1000, 0.1000, 0.1000, 0.1000, 0.1000],\n",
      "         [0.1000, 0.1000, 0.1000, 0.1000, 0.1000]]])\n",
      "t3 텐서의 실행 장소 : cpu\n"
     ]
    }
   ],
   "source": [
    "t3 = FloatTensor(np.ones((3,4,5)) / 10)\n",
    "tensor_properties(t3, 't3')"
   ]
  },
  {
   "cell_type": "markdown",
   "metadata": {},
   "source": [
    "- Tensor 생성 (2) : 원하는 값으로 텐서 생성 => torch.tensor()"
   ]
  },
  {
   "cell_type": "code",
   "execution_count": 52,
   "metadata": {},
   "outputs": [
    {
     "name": "stdout",
     "output_type": "stream",
     "text": [
      "t1 텐서의 속성\n",
      "t1 텐서의 데이터 타입 : torch.bool\n",
      "t1 텐서의 데이터 형태 : torch.Size([5, 2, 3])\n",
      "t1 텐서의 데이터 크기 : torch.Size([5, 2, 3])\n",
      "t1 텐서의 데이터 차원 : 3\n",
      "t1 텐서의 경사하강법 여부 : False\n",
      "t1 텐서의 실 데이터 : \n",
      "tensor([[[False, False, False],\n",
      "         [False, False, False]],\n",
      "\n",
      "        [[False, False, False],\n",
      "         [False, False, False]],\n",
      "\n",
      "        [[False, False, False],\n",
      "         [False, False, False]],\n",
      "\n",
      "        [[False, False, False],\n",
      "         [False, False, False]],\n",
      "\n",
      "        [[False, False, False],\n",
      "         [False, False, False]]])\n",
      "t1 텐서의 실행 장소 : cpu\n"
     ]
    }
   ],
   "source": [
    "# dtype 매개변수 : 원하는 데이터 타입 지정 가능\n",
    "t1 = tensor(np.zeros((5,2,3,)) , dtype=torch.bool) # scaler 데이터, float32 ==> bool\n",
    "tensor_properties(t1, 't1')\n"
   ]
  },
  {
   "cell_type": "markdown",
   "metadata": {},
   "source": [
    "### (3) 특정 값으로 채운 텐서 ==> 0,1 등의 값"
   ]
  },
  {
   "cell_type": "code",
   "execution_count": 70,
   "metadata": {},
   "outputs": [
    {
     "name": "stdout",
     "output_type": "stream",
     "text": [
      "t1 텐서의 속성\n",
      "t1 텐서의 데이터 타입 : torch.float32\n",
      "t1 텐서의 데이터 형태 : torch.Size([4, 5])\n",
      "t1 텐서의 데이터 크기 : torch.Size([4, 5])\n",
      "t1 텐서의 데이터 차원 : 2\n",
      "t1 텐서의 경사하강법 여부 : False\n",
      "t1 텐서의 실 데이터 : \n",
      "tensor([[0., 0., 0., 0., 0.],\n",
      "        [0., 0., 0., 0., 0.],\n",
      "        [0., 0., 0., 0., 0.],\n",
      "        [0., 0., 0., 0., 0.]])\n",
      "t1 텐서의 실행 장소 : cpu\n"
     ]
    }
   ],
   "source": [
    "t1 = torch.zeros((4,5),)\n",
    "tensor_properties(t1, 't1')"
   ]
  },
  {
   "cell_type": "code",
   "execution_count": 71,
   "metadata": {},
   "outputs": [
    {
     "name": "stdout",
     "output_type": "stream",
     "text": [
      "t1 텐서의 속성\n",
      "t1 텐서의 데이터 타입 : torch.float32\n",
      "t1 텐서의 데이터 형태 : torch.Size([5, 6])\n",
      "t1 텐서의 데이터 크기 : torch.Size([5, 6])\n",
      "t1 텐서의 데이터 차원 : 2\n",
      "t1 텐서의 경사하강법 여부 : False\n",
      "t1 텐서의 실 데이터 : \n",
      "tensor([[1., 1., 1., 1., 1., 1.],\n",
      "        [1., 1., 1., 1., 1., 1.],\n",
      "        [1., 1., 1., 1., 1., 1.],\n",
      "        [1., 1., 1., 1., 1., 1.],\n",
      "        [1., 1., 1., 1., 1., 1.]])\n",
      "t1 텐서의 실행 장소 : cpu\n"
     ]
    }
   ],
   "source": [
    "t1 = torch.ones((5,6),)\n",
    "tensor_properties(t1, 't1')"
   ]
  },
  {
   "cell_type": "code",
   "execution_count": 87,
   "metadata": {},
   "outputs": [],
   "source": [
    "# 이미 존재하는 텐서와 동일한 shape로 잡고 값 채우기 ==> zeros_like(), ones_like(), full_like()"
   ]
  },
  {
   "cell_type": "code",
   "execution_count": 81,
   "metadata": {},
   "outputs": [
    {
     "data": {
      "text/plain": [
       "tensor([[54, 55, 99, 76],\n",
       "        [13, 47, 65, 37],\n",
       "        [71, 71, 39, 51]])"
      ]
     },
     "execution_count": 81,
     "metadata": {},
     "output_type": "execute_result"
    }
   ],
   "source": [
    "imgT = torch.randint(10,100, (3,4))\n",
    "imgT"
   ]
  },
  {
   "cell_type": "code",
   "execution_count": 82,
   "metadata": {},
   "outputs": [
    {
     "data": {
      "text/plain": [
       "tensor([[1, 1, 1, 1],\n",
       "        [1, 1, 1, 1],\n",
       "        [1, 1, 1, 1]])"
      ]
     },
     "execution_count": 82,
     "metadata": {},
     "output_type": "execute_result"
    }
   ],
   "source": [
    "zero_img = torch.ones_like(imgT)\n",
    "zero_img"
   ]
  },
  {
   "cell_type": "code",
   "execution_count": 84,
   "metadata": {},
   "outputs": [
    {
     "data": {
      "text/plain": [
       "tensor([[10, 10, 10, 10],\n",
       "        [10, 10, 10, 10],\n",
       "        [10, 10, 10, 10]])"
      ]
     },
     "execution_count": 84,
     "metadata": {},
     "output_type": "execute_result"
    }
   ],
   "source": [
    "full_img = torch.full_like(imgT, 10)\n",
    "full_img"
   ]
  },
  {
   "cell_type": "code",
   "execution_count": 111,
   "metadata": {},
   "outputs": [
    {
     "data": {
      "text/plain": [
       "tensor([[1., 0., 0., 0., 0., 0., 0., 0., 0.],\n",
       "        [0., 1., 0., 0., 0., 0., 0., 0., 0.],\n",
       "        [0., 0., 1., 0., 0., 0., 0., 0., 0.],\n",
       "        [0., 0., 0., 1., 0., 0., 0., 0., 0.],\n",
       "        [0., 0., 0., 0., 1., 0., 0., 0., 0.],\n",
       "        [0., 0., 0., 0., 0., 1., 0., 0., 0.],\n",
       "        [0., 0., 0., 0., 0., 0., 1., 0., 0.],\n",
       "        [0., 0., 0., 0., 0., 0., 0., 1., 0.],\n",
       "        [0., 0., 0., 0., 0., 0., 0., 0., 1.],\n",
       "        [0., 0., 0., 0., 0., 0., 0., 0., 0.]])"
      ]
     },
     "execution_count": 111,
     "metadata": {},
     "output_type": "execute_result"
    }
   ],
   "source": [
    "# 대각선 방향으로 1 채우기 --> eye()\n",
    "t1 = torch.eye(10,9)\n",
    "t1"
   ]
  },
  {
   "cell_type": "markdown",
   "metadata": {},
   "source": [
    "### (4) 임의의 값으로 Tensor 생성 => torch.rand(), torch.randn(), torch.randint()\n"
   ]
  },
  {
   "cell_type": "markdown",
   "metadata": {},
   "source": [
    "### (5) ndarray 객체 활용 => torch.from_numpy(), torch.as_tensor(), tensor()"
   ]
  },
  {
   "cell_type": "code",
   "execution_count": 278,
   "metadata": {},
   "outputs": [
    {
     "data": {
      "text/plain": [
       "array([1, 2, 3, 4, 5], dtype=uint8)"
      ]
     },
     "execution_count": 278,
     "metadata": {},
     "output_type": "execute_result"
    }
   ],
   "source": [
    "data = np.array([1,2,3,4,5], dtype=np.uint8)\n",
    "data"
   ]
  },
  {
   "cell_type": "code",
   "execution_count": 279,
   "metadata": {},
   "outputs": [
    {
     "data": {
      "text/plain": [
       "tensor([1, 2, 3, 4, 5], dtype=torch.uint8)"
      ]
     },
     "execution_count": 279,
     "metadata": {},
     "output_type": "execute_result"
    }
   ],
   "source": [
    "t1 = from_numpy(data)\n",
    "t1"
   ]
  },
  {
   "cell_type": "code",
   "execution_count": 280,
   "metadata": {},
   "outputs": [
    {
     "data": {
      "text/plain": [
       "tensor([1, 2, 3, 4, 5], dtype=torch.uint8)"
      ]
     },
     "execution_count": 280,
     "metadata": {},
     "output_type": "execute_result"
    }
   ],
   "source": [
    "t2 = as_tensor(data)\n",
    "t2"
   ]
  },
  {
   "cell_type": "code",
   "execution_count": 281,
   "metadata": {},
   "outputs": [
    {
     "data": {
      "text/plain": [
       "tensor([1, 2, 3, 4, 5], dtype=torch.uint8)"
      ]
     },
     "execution_count": 281,
     "metadata": {},
     "output_type": "execute_result"
    }
   ],
   "source": [
    "\n",
    "t3 = torch.tensor(data)\n",
    "t3"
   ]
  },
  {
   "cell_type": "code",
   "execution_count": 283,
   "metadata": {},
   "outputs": [],
   "source": [
    "# ndarray 원소 변경\n",
    "data[0] = 100"
   ]
  },
  {
   "cell_type": "code",
   "execution_count": 287,
   "metadata": {},
   "outputs": [
    {
     "data": {
      "text/plain": [
       "(array([100,   2,   3,   4,   5], dtype=uint8),\n",
       " tensor([100,   2,   3,   4,   5], dtype=torch.uint8),\n",
       " tensor([100,   2,   3,   4,   5], dtype=torch.uint8),\n",
       " tensor([1, 2, 3, 4, 5], dtype=torch.uint8))"
      ]
     },
     "execution_count": 287,
     "metadata": {},
     "output_type": "execute_result"
    }
   ],
   "source": [
    "# from_numpy(), as_tensor() ==> 데이터 공유\n",
    "# tensor() ==> 복사본 생성\n",
    "data, t1, t2, t3\n"
   ]
  },
  {
   "cell_type": "code",
   "execution_count": 291,
   "metadata": {},
   "outputs": [
    {
     "data": {
      "text/plain": [
       "(tensor([0, 1, 2, 3, 4, 5, 6, 7, 8, 9]),\n",
       " tensor([1, 2, 3, 4, 5, 6, 7, 8, 9]),\n",
       " tensor([1, 4, 7]))"
      ]
     },
     "execution_count": 291,
     "metadata": {},
     "output_type": "execute_result"
    }
   ],
   "source": [
    "arange(10), arange(1,10), arange(1,10,3)"
   ]
  },
  {
   "cell_type": "code",
   "execution_count": null,
   "metadata": {},
   "outputs": [],
   "source": []
  }
 ],
 "metadata": {
  "kernelspec": {
   "display_name": "Torch_PY38",
   "language": "python",
   "name": "python3"
  },
  "language_info": {
   "codemirror_mode": {
    "name": "ipython",
    "version": 3
   },
   "file_extension": ".py",
   "mimetype": "text/x-python",
   "name": "python",
   "nbconvert_exporter": "python",
   "pygments_lexer": "ipython3",
   "version": "3.8.18"
  }
 },
 "nbformat": 4,
 "nbformat_minor": 2
}
