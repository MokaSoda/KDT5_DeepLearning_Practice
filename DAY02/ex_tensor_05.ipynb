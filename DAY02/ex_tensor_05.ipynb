{
 "cells": [
  {
   "cell_type": "markdown",
   "metadata": {},
   "source": [
    "## 텐서 결합 및 연결"
   ]
  },
  {
   "cell_type": "code",
   "execution_count": 1,
   "metadata": {},
   "outputs": [],
   "source": [
    "import torch\n",
    "from torch import *\n",
    "import numpy as np\n",
    "import intel_extension_for_pytorch as ipex"
   ]
  },
  {
   "cell_type": "code",
   "execution_count": 2,
   "metadata": {},
   "outputs": [
    {
     "data": {
      "text/plain": [
       "(torch.Size([92, 10]), torch.Size([10, 10]), torch.Size([92, 13]))"
      ]
     },
     "execution_count": 2,
     "metadata": {},
     "output_type": "execute_result"
    }
   ],
   "source": [
    "torch.manual_seed(10)\n",
    "\n",
    "X = rand((92,10)) # 임의의 실수 \n",
    "y = randint(0,2,(10,10)) # 임의의 정수\n",
    "y_col = randint(0,2,(92,13))\n",
    "\n",
    "\n",
    "X.shape, y.shape, y_col.shape"
   ]
  },
  {
   "cell_type": "code",
   "execution_count": 3,
   "metadata": {},
   "outputs": [],
   "source": [
    "# tensor 연결 cat([텐서1, 텐서2, ....])\n",
    "xy1 = torch.concat((X,y), 0)\n",
    "xy2 = torch.concat((X,y_col), 1)\n"
   ]
  },
  {
   "cell_type": "code",
   "execution_count": 4,
   "metadata": {},
   "outputs": [
    {
     "data": {
      "text/plain": [
       "(torch.Size([102, 10]), torch.Size([92, 23]), 2, 2)"
      ]
     },
     "execution_count": 4,
     "metadata": {},
     "output_type": "execute_result"
    }
   ],
   "source": [
    "xy1.shape, xy2.shape, xy1.ndim, xy2.ndim"
   ]
  },
  {
   "cell_type": "code",
   "execution_count": 5,
   "metadata": {},
   "outputs": [
    {
     "data": {
      "text/plain": [
       "tensor([[1., 4.],\n",
       "        [2., 5.],\n",
       "        [3., 6.]])"
      ]
     },
     "execution_count": 5,
     "metadata": {},
     "output_type": "execute_result"
    }
   ],
   "source": [
    "x = FloatTensor([1,4])\n",
    "y = FloatTensor([2,5])\n",
    "z = FloatTensor([3,6])\n",
    "\n",
    "stack([x,y,z])"
   ]
  },
  {
   "cell_type": "code",
   "execution_count": 6,
   "metadata": {},
   "outputs": [
    {
     "data": {
      "text/plain": [
       "(torch.return_types.max(\n",
       " values=tensor([1., 1., 1., 1., 1., 1., 1., 1., 1., 1.]),\n",
       " indices=tensor([93, 96, 92, 92, 93, 93, 93, 92, 93, 92])),\n",
       " torch.Size([102, 10]))"
      ]
     },
     "execution_count": 6,
     "metadata": {},
     "output_type": "execute_result"
    }
   ],
   "source": [
    "xy1.max(dim=0), xy1.shape"
   ]
  },
  {
   "cell_type": "code",
   "execution_count": 7,
   "metadata": {},
   "outputs": [
    {
     "data": {
      "text/plain": [
       "(tensor([0.9693, 0.9849, 0.7192, 0.9502, 0.8988, 0.9829, 0.9619, 0.9792, 0.9894,\n",
       "         0.9811, 0.9259, 0.8371, 0.9271, 0.9510, 0.9799, 0.8823, 0.8099, 0.9714,\n",
       "         0.9874, 0.9061, 0.9199, 0.9623, 0.9223, 0.8031, 0.7495, 0.9382, 0.8605,\n",
       "         0.8914, 0.9910, 0.9322, 0.7865, 0.9510, 0.9949, 0.9986, 0.9515, 0.7932,\n",
       "         0.9093, 0.9622, 0.8867, 0.9207, 0.9259, 0.9476, 0.9829, 0.8813, 0.9480,\n",
       "         0.7020, 0.9915, 0.9950, 0.8539, 0.7335, 0.9498, 0.9047, 0.8764, 0.9652,\n",
       "         0.7585, 0.8418, 0.8942, 0.9911, 0.9708, 0.8443, 0.9832, 0.8314, 0.8869,\n",
       "         0.9692, 0.9818, 0.9729, 0.9687, 0.9477, 0.9635, 0.9909, 0.8587, 0.8130,\n",
       "         0.9211, 0.9422, 0.9526, 0.9978, 0.9640, 0.8251, 0.9529, 0.8139, 0.9176,\n",
       "         0.9107, 0.9245, 0.8931, 0.5992, 0.9667, 0.9151, 0.9490, 0.9520, 0.9941,\n",
       "         0.9670, 0.8700, 1.0000, 1.0000, 1.0000, 1.0000, 1.0000, 1.0000, 1.0000,\n",
       "         1.0000, 1.0000, 1.0000]),\n",
       " tensor([7, 5, 9, 6, 1, 1, 5, 0, 7, 1, 2, 9, 0, 7, 1, 8, 5, 4, 3, 7, 6, 0, 8, 5,\n",
       "         9, 7, 7, 0, 9, 9, 4, 9, 6, 5, 6, 3, 0, 7, 8, 8, 2, 8, 1, 7, 7, 9, 1, 3,\n",
       "         0, 2, 3, 5, 9, 2, 0, 9, 4, 9, 4, 2, 9, 9, 1, 2, 9, 3, 0, 9, 3, 3, 0, 9,\n",
       "         2, 2, 7, 7, 1, 3, 4, 8, 2, 6, 7, 0, 8, 3, 0, 9, 1, 4, 1, 5, 2, 0, 2, 0,\n",
       "         1, 0, 0, 0, 0, 0]))"
      ]
     },
     "execution_count": 7,
     "metadata": {},
     "output_type": "execute_result"
    }
   ],
   "source": [
    "# 행 단위로 최대값 및 최대값의 인덱스 \n",
    "max_value = xy1.max(dim=1)[0]\n",
    "max_index = xy1.max(dim=1)[1]\n",
    "max_value, max_index"
   ]
  },
  {
   "cell_type": "code",
   "execution_count": 8,
   "metadata": {},
   "outputs": [
    {
     "data": {
      "text/plain": [
       "(tensor([1., 1., 1., 1., 1., 1., 1., 1., 1., 1.]),\n",
       " tensor([93, 96, 92, 92, 93, 93, 93, 92, 93, 92]))"
      ]
     },
     "execution_count": 8,
     "metadata": {},
     "output_type": "execute_result"
    }
   ],
   "source": [
    "# 열 단위로 최대값 및 최대값의 인덱스 \n",
    "max_value = xy1.max(dim=0)[0]\n",
    "max_index = xy1.max(dim=0)[1]\n",
    "max_value, max_index"
   ]
  },
  {
   "cell_type": "code",
   "execution_count": 9,
   "metadata": {},
   "outputs": [
    {
     "name": "stderr",
     "output_type": "stream",
     "text": [
      "2024-03-13 09:01:47,356 - numexpr.utils - INFO - NumExpr defaulting to 8 threads.\n"
     ]
    },
    {
     "data": {
      "text/html": [
       "<div>\n",
       "<style scoped>\n",
       "    .dataframe tbody tr th:only-of-type {\n",
       "        vertical-align: middle;\n",
       "    }\n",
       "\n",
       "    .dataframe tbody tr th {\n",
       "        vertical-align: top;\n",
       "    }\n",
       "\n",
       "    .dataframe thead th {\n",
       "        text-align: right;\n",
       "    }\n",
       "</style>\n",
       "<table border=\"1\" class=\"dataframe\">\n",
       "  <thead>\n",
       "    <tr style=\"text-align: right;\">\n",
       "      <th></th>\n",
       "      <th>A</th>\n",
       "      <th>B</th>\n",
       "      <th>C</th>\n",
       "    </tr>\n",
       "  </thead>\n",
       "  <tbody>\n",
       "    <tr>\n",
       "      <th>0</th>\n",
       "      <td>1</td>\n",
       "      <td>4</td>\n",
       "      <td>7</td>\n",
       "    </tr>\n",
       "    <tr>\n",
       "      <th>1</th>\n",
       "      <td>2</td>\n",
       "      <td>5</td>\n",
       "      <td>8</td>\n",
       "    </tr>\n",
       "    <tr>\n",
       "      <th>2</th>\n",
       "      <td>3</td>\n",
       "      <td>6</td>\n",
       "      <td>9</td>\n",
       "    </tr>\n",
       "  </tbody>\n",
       "</table>\n",
       "</div>"
      ],
      "text/plain": [
       "   A  B  C\n",
       "0  1  4  7\n",
       "1  2  5  8\n",
       "2  3  6  9"
      ]
     },
     "execution_count": 9,
     "metadata": {},
     "output_type": "execute_result"
    }
   ],
   "source": [
    "import pandas as pd\n",
    "\n",
    "data = pd.DataFrame({'A':[1,2,3], 'B':[4,5,6], 'C':[7,8,9]})\n",
    "data\n"
   ]
  },
  {
   "cell_type": "code",
   "execution_count": 10,
   "metadata": {},
   "outputs": [
    {
     "data": {
      "text/plain": [
       "(A    3\n",
       " B    6\n",
       " C    9\n",
       " dtype: int64,\n",
       " 0    7\n",
       " 1    8\n",
       " 2    9\n",
       " dtype: int64)"
      ]
     },
     "execution_count": 10,
     "metadata": {},
     "output_type": "execute_result"
    }
   ],
   "source": [
    "# 집계함수의 경우 axis 가 반대로 적용됨\n",
    "\n",
    "data.max(axis=0), data.max(axis=1)"
   ]
  },
  {
   "cell_type": "markdown",
   "metadata": {},
   "source": [
    "### Tensor 차원/형태 변경\n"
   ]
  },
  {
   "cell_type": "code",
   "execution_count": 11,
   "metadata": {},
   "outputs": [],
   "source": [
    "t1 = tensor(\n",
    "    [\n",
    "        [\n",
    "            [1,2,], \n",
    "            [11,22,],\n",
    "            [44,55,]\n",
    "        ]\n",
    "    ]\n",
    ")\n"
   ]
  },
  {
   "cell_type": "code",
   "execution_count": 12,
   "metadata": {},
   "outputs": [
    {
     "data": {
      "text/plain": [
       "(torch.Size([1, 3, 2]), 3)"
      ]
     },
     "execution_count": 12,
     "metadata": {},
     "output_type": "execute_result"
    }
   ],
   "source": [
    "t1.shape, t1.ndim"
   ]
  },
  {
   "cell_type": "code",
   "execution_count": 13,
   "metadata": {},
   "outputs": [],
   "source": [
    "# transpose는 두 차원만 서로 교환가능\n",
    "t11 = t1.transpose(0,1)"
   ]
  },
  {
   "cell_type": "code",
   "execution_count": 14,
   "metadata": {},
   "outputs": [],
   "source": [
    "# permute 를 활용하여 차원의 순서 변경\n",
    "t22 = t1.permute(1,2,0)"
   ]
  },
  {
   "cell_type": "code",
   "execution_count": 15,
   "metadata": {},
   "outputs": [
    {
     "data": {
      "text/plain": [
       "(145891392, 145891392, 145891392)"
      ]
     },
     "execution_count": 15,
     "metadata": {},
     "output_type": "execute_result"
    }
   ],
   "source": [
    "# 차원 변동이 있다고 하더라도 데이터의 주소는 변화하지 않음\n",
    "t1.data_ptr(), t11.data_ptr(), t22.data_ptr()"
   ]
  },
  {
   "cell_type": "code",
   "execution_count": 16,
   "metadata": {},
   "outputs": [
    {
     "data": {
      "text/plain": [
       "(torch.Size([1, 3, 2]), torch.Size([1, 1, 3, 2]), 145891392)"
      ]
     },
     "execution_count": 16,
     "metadata": {},
     "output_type": "execute_result"
    }
   ],
   "source": [
    "t1.shape, t1[None].shape, t1[None].data_ptr()\n"
   ]
  }
 ],
 "metadata": {
  "kernelspec": {
   "display_name": "EXAM_DL",
   "language": "python",
   "name": "python3"
  },
  "language_info": {
   "codemirror_mode": {
    "name": "ipython",
    "version": 3
   },
   "file_extension": ".py",
   "mimetype": "text/x-python",
   "name": "python",
   "nbconvert_exporter": "python",
   "pygments_lexer": "ipython3",
   "version": "3.8.18"
  }
 },
 "nbformat": 4,
 "nbformat_minor": 2
}
